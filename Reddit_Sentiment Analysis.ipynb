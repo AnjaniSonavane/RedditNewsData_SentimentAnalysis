{
 "cells": [
  {
   "cell_type": "code",
   "execution_count": 1,
   "id": "6330af69",
   "metadata": {},
   "outputs": [],
   "source": [
    "from IPython import display\n",
    "import math\n",
    "from pprint import pprint\n",
    "import pandas as pd\n",
    "import numpy as np\n",
    "import nltk\n",
    "import matplotlib.pyplot as plt\n",
    "import seaborn as sns\n",
    "sns.set(style='darkgrid', context='talk', palette='Dark2')"
   ]
  },
  {
   "cell_type": "markdown",
   "id": "c1023b68",
   "metadata": {},
   "source": [
    "Here we are using a Reddit API wrapper, called `praw`, to loop through the /r/politics subreddit headlines."
   ]
  },
  {
   "cell_type": "code",
   "execution_count": 2,
   "id": "91a8bcdc",
   "metadata": {},
   "outputs": [],
   "source": [
    "import praw"
   ]
  },
  {
   "cell_type": "code",
   "execution_count": 3,
   "id": "f2f0ce86",
   "metadata": {},
   "outputs": [],
   "source": [
    "reddit = praw.Reddit(client_id='I63tI5BvF7PVjkebaeTJxg',\n",
    "                     client_secret='wLDZSQMRWwko3Hdi3FJkJTi229GPlA',\n",
    "                     user_agent='AnjaniJeegni')"
   ]
  },
  {
   "cell_type": "code",
   "execution_count": 4,
   "id": "ba1e87bd",
   "metadata": {},
   "outputs": [],
   "source": [
    "headlines = set()\n",
    "#a set for our headlines so we don't get duplicates when running multiple times"
   ]
  },
  {
   "cell_type": "code",
   "execution_count": 5,
   "id": "d09b6120",
   "metadata": {},
   "outputs": [
    {
     "name": "stdout",
     "output_type": "stream",
     "text": [
      "961\n"
     ]
    }
   ],
   "source": [
    "#we iterating through the /r/politics subreddit using the API client\n",
    "for submission in reddit.subreddit('politics').new(limit=None):\n",
    "    headlines.add(submission.title)\n",
    "    display.clear_output()\n",
    "    print(len(headlines))"
   ]
  },
  {
   "cell_type": "markdown",
   "id": "d697b6c2",
   "metadata": {},
   "source": [
    "We're iterating over the new posts in /r/politics, and by adding the limit to None we can get up to 1000 headlines. \n",
    "\n",
    "This time we only received 961 headlines.\n",
    "\n",
    "Without some more advanced tricks we can't go past 1000 results since Reddit cuts off at that point. We can run this loop multiple times and keep adding new headlines to our set, or we can implement a streaming version."
   ]
  },
  {
   "cell_type": "markdown",
   "id": "5479e90f",
   "metadata": {},
   "source": [
    "## Labeling our Data"
   ]
  },
  {
   "cell_type": "markdown",
   "id": "fa2e4c4c",
   "metadata": {},
   "source": [
    "NLTK’s built-in Vader Sentiment Analyzer will give rank a piece of text as positive, negative or neutral using a lexicon of positive and negative words.\n",
    "\n",
    "We can utilize this tool by first creating a Sentiment Intensity Analyzer- SIA to categorize our headlines, then we'll use the polarity_scores method to get the sentiment."
   ]
  },
  {
   "cell_type": "code",
   "execution_count": 6,
   "id": "b8793302",
   "metadata": {},
   "outputs": [
    {
     "name": "stdout",
     "output_type": "stream",
     "text": [
      "[{'compound': 0.6369,\n",
      "  'headline': 'Get rid of tariffs on China to help ease inflation, two dozen business groups tell '\n",
      "              'Biden',\n",
      "  'neg': 0.0,\n",
      "  'neu': 0.729,\n",
      "  'pos': 0.271},\n",
      " {'compound': -0.0772,\n",
      "  'headline': 'Even in Solidly Blue States, Democrats Aren’t Pursuing Serious Progressive Change',\n",
      "  'neg': 0.115,\n",
      "  'neu': 0.885,\n",
      "  'pos': 0.0},\n",
      " {'compound': -0.7269,\n",
      "  'headline': 'U.S. senator introduces bill to block Brazilian beef imports after \"mad cow\" '\n",
      "              'reports',\n",
      "  'neg': 0.357,\n",
      "  'neu': 0.643,\n",
      "  'pos': 0.0}]\n"
     ]
    }
   ],
   "source": [
    "from nltk.sentiment.vader import SentimentIntensityAnalyzer as SIA\n",
    "\n",
    "sia = SIA()\n",
    "results = []\n",
    "\n",
    "for line in headlines:\n",
    "    pol_score = sia.polarity_scores(line)\n",
    "    pol_score['headline'] = line\n",
    "    results.append(pol_score)\n",
    "\n",
    "pprint(results[:3], width=100)"
   ]
  },
  {
   "cell_type": "code",
   "execution_count": 7,
   "id": "139cadc4",
   "metadata": {},
   "outputs": [
    {
     "data": {
      "text/html": [
       "<div>\n",
       "<style scoped>\n",
       "    .dataframe tbody tr th:only-of-type {\n",
       "        vertical-align: middle;\n",
       "    }\n",
       "\n",
       "    .dataframe tbody tr th {\n",
       "        vertical-align: top;\n",
       "    }\n",
       "\n",
       "    .dataframe thead th {\n",
       "        text-align: right;\n",
       "    }\n",
       "</style>\n",
       "<table border=\"1\" class=\"dataframe\">\n",
       "  <thead>\n",
       "    <tr style=\"text-align: right;\">\n",
       "      <th></th>\n",
       "      <th>neg</th>\n",
       "      <th>neu</th>\n",
       "      <th>pos</th>\n",
       "      <th>compound</th>\n",
       "      <th>headline</th>\n",
       "    </tr>\n",
       "  </thead>\n",
       "  <tbody>\n",
       "    <tr>\n",
       "      <th>0</th>\n",
       "      <td>0.000</td>\n",
       "      <td>0.729</td>\n",
       "      <td>0.271</td>\n",
       "      <td>0.6369</td>\n",
       "      <td>Get rid of tariffs on China to help ease infla...</td>\n",
       "    </tr>\n",
       "    <tr>\n",
       "      <th>1</th>\n",
       "      <td>0.115</td>\n",
       "      <td>0.885</td>\n",
       "      <td>0.000</td>\n",
       "      <td>-0.0772</td>\n",
       "      <td>Even in Solidly Blue States, Democrats Aren’t ...</td>\n",
       "    </tr>\n",
       "    <tr>\n",
       "      <th>2</th>\n",
       "      <td>0.357</td>\n",
       "      <td>0.643</td>\n",
       "      <td>0.000</td>\n",
       "      <td>-0.7269</td>\n",
       "      <td>U.S. senator introduces bill to block Brazilia...</td>\n",
       "    </tr>\n",
       "    <tr>\n",
       "      <th>3</th>\n",
       "      <td>0.000</td>\n",
       "      <td>1.000</td>\n",
       "      <td>0.000</td>\n",
       "      <td>0.0000</td>\n",
       "      <td>Sen. Ossoff working to pass bill to fund Cyber...</td>\n",
       "    </tr>\n",
       "    <tr>\n",
       "      <th>4</th>\n",
       "      <td>0.178</td>\n",
       "      <td>0.822</td>\n",
       "      <td>0.000</td>\n",
       "      <td>-0.3818</td>\n",
       "      <td>Progressives Slam GOP's 'Shameful' Attempt to ...</td>\n",
       "    </tr>\n",
       "  </tbody>\n",
       "</table>\n",
       "</div>"
      ],
      "text/plain": [
       "     neg    neu    pos  compound  \\\n",
       "0  0.000  0.729  0.271    0.6369   \n",
       "1  0.115  0.885  0.000   -0.0772   \n",
       "2  0.357  0.643  0.000   -0.7269   \n",
       "3  0.000  1.000  0.000    0.0000   \n",
       "4  0.178  0.822  0.000   -0.3818   \n",
       "\n",
       "                                            headline  \n",
       "0  Get rid of tariffs on China to help ease infla...  \n",
       "1  Even in Solidly Blue States, Democrats Aren’t ...  \n",
       "2  U.S. senator introduces bill to block Brazilia...  \n",
       "3  Sen. Ossoff working to pass bill to fund Cyber...  \n",
       "4  Progressives Slam GOP's 'Shameful' Attempt to ...  "
      ]
     },
     "execution_count": 7,
     "metadata": {},
     "output_type": "execute_result"
    }
   ],
   "source": [
    "df = pd.DataFrame.from_records(results)\n",
    "df.head()"
   ]
  },
  {
   "cell_type": "markdown",
   "id": "6ceb05fe",
   "metadata": {},
   "source": [
    "The above table consists of four columns from the sentiment scoring: Neural, Negative, Positive and compound. \n",
    "The first three represent the sentiment score percentage of each category in our headline, and the compound single number that scores the sentiment."
   ]
  },
  {
   "cell_type": "code",
   "execution_count": 8,
   "id": "67ac0aab",
   "metadata": {},
   "outputs": [
    {
     "data": {
      "text/html": [
       "<div>\n",
       "<style scoped>\n",
       "    .dataframe tbody tr th:only-of-type {\n",
       "        vertical-align: middle;\n",
       "    }\n",
       "\n",
       "    .dataframe tbody tr th {\n",
       "        vertical-align: top;\n",
       "    }\n",
       "\n",
       "    .dataframe thead th {\n",
       "        text-align: right;\n",
       "    }\n",
       "</style>\n",
       "<table border=\"1\" class=\"dataframe\">\n",
       "  <thead>\n",
       "    <tr style=\"text-align: right;\">\n",
       "      <th></th>\n",
       "      <th>neg</th>\n",
       "      <th>neu</th>\n",
       "      <th>pos</th>\n",
       "      <th>compound</th>\n",
       "      <th>headline</th>\n",
       "      <th>label</th>\n",
       "    </tr>\n",
       "  </thead>\n",
       "  <tbody>\n",
       "    <tr>\n",
       "      <th>0</th>\n",
       "      <td>0.000</td>\n",
       "      <td>0.729</td>\n",
       "      <td>0.271</td>\n",
       "      <td>0.6369</td>\n",
       "      <td>Get rid of tariffs on China to help ease infla...</td>\n",
       "      <td>1</td>\n",
       "    </tr>\n",
       "    <tr>\n",
       "      <th>1</th>\n",
       "      <td>0.115</td>\n",
       "      <td>0.885</td>\n",
       "      <td>0.000</td>\n",
       "      <td>-0.0772</td>\n",
       "      <td>Even in Solidly Blue States, Democrats Aren’t ...</td>\n",
       "      <td>0</td>\n",
       "    </tr>\n",
       "    <tr>\n",
       "      <th>2</th>\n",
       "      <td>0.357</td>\n",
       "      <td>0.643</td>\n",
       "      <td>0.000</td>\n",
       "      <td>-0.7269</td>\n",
       "      <td>U.S. senator introduces bill to block Brazilia...</td>\n",
       "      <td>-1</td>\n",
       "    </tr>\n",
       "    <tr>\n",
       "      <th>3</th>\n",
       "      <td>0.000</td>\n",
       "      <td>1.000</td>\n",
       "      <td>0.000</td>\n",
       "      <td>0.0000</td>\n",
       "      <td>Sen. Ossoff working to pass bill to fund Cyber...</td>\n",
       "      <td>0</td>\n",
       "    </tr>\n",
       "    <tr>\n",
       "      <th>4</th>\n",
       "      <td>0.178</td>\n",
       "      <td>0.822</td>\n",
       "      <td>0.000</td>\n",
       "      <td>-0.3818</td>\n",
       "      <td>Progressives Slam GOP's 'Shameful' Attempt to ...</td>\n",
       "      <td>-1</td>\n",
       "    </tr>\n",
       "  </tbody>\n",
       "</table>\n",
       "</div>"
      ],
      "text/plain": [
       "     neg    neu    pos  compound  \\\n",
       "0  0.000  0.729  0.271    0.6369   \n",
       "1  0.115  0.885  0.000   -0.0772   \n",
       "2  0.357  0.643  0.000   -0.7269   \n",
       "3  0.000  1.000  0.000    0.0000   \n",
       "4  0.178  0.822  0.000   -0.3818   \n",
       "\n",
       "                                            headline  label  \n",
       "0  Get rid of tariffs on China to help ease infla...      1  \n",
       "1  Even in Solidly Blue States, Democrats Aren’t ...      0  \n",
       "2  U.S. senator introduces bill to block Brazilia...     -1  \n",
       "3  Sen. Ossoff working to pass bill to fund Cyber...      0  \n",
       "4  Progressives Slam GOP's 'Shameful' Attempt to ...     -1  "
      ]
     },
     "execution_count": 8,
     "metadata": {},
     "output_type": "execute_result"
    }
   ],
   "source": [
    "df['label'] = 0\n",
    "df.loc[df['compound'] > 0.2, 'label'] = 1\n",
    "df.loc[df['compound'] < -0.2, 'label'] = -1\n",
    "df.head()\n",
    "\n",
    "# We are creating a positive label of 1 if the compound is greater than 0.2, and a label of -1 if compound is less than -0.2. Everything else will be 0."
   ]
  },
  {
   "cell_type": "code",
   "execution_count": 9,
   "id": "22a00526",
   "metadata": {},
   "outputs": [],
   "source": [
    "df2 = df[['headline', 'label']]\n",
    "df2.to_csv('reddit_headlines_labels.csv', mode='a', encoding='utf-8', index=False)"
   ]
  },
  {
   "cell_type": "markdown",
   "id": "8da36313",
   "metadata": {},
   "source": [
    "# Dataset Info and Statistics"
   ]
  },
  {
   "cell_type": "code",
   "execution_count": 10,
   "id": "fe4d9338",
   "metadata": {},
   "outputs": [
    {
     "name": "stdout",
     "output_type": "stream",
     "text": [
      "Positive headlines:\n",
      "\n",
      "['Get rid of tariffs on China to help ease inflation, two dozen business groups tell Biden',\n",
      " \"[Politics] - Week in politics: The 'Build Back Better' bill is moving forward | NPR\",\n",
      " 'Discussion Thread: House of Representatives votes on the Build Back Better reconciliation bill',\n",
      " 'With Back Channels to Manchin and Sinema, Pelosi Found a Path to a Deal: The House’s approval of a sweeping social policy bill after weeks of fits and starts notched another win for the speaker in '\n",
      " 'a career defined by them.',\n",
      " 'Biden Sells Infrastructure Improvements as a Way to Counter China']\n",
      "\n",
      "Negative headlines:\n",
      "\n",
      "['U.S. senator introduces bill to block Brazilian beef imports after \"mad cow\" reports',\n",
      " \"Progressives Slam GOP's 'Shameful' Attempt to Add Another $25 Billion to Pentagon Budget\",\n",
      " 'Why are Americans so unhappy with Joe Biden? | Robert Reich',\n",
      " 'House Vote On Biden Spending Bill Is Delayed By Kevin McCarthy Talking For Hours',\n",
      " 'Lauren Boebert accuses Black Congresswoman of marrying her brother in House speech']\n"
     ]
    }
   ],
   "source": [
    "print(\"Positive headlines:\\n\")\n",
    "pprint(list(df[df['label'] == 1].headline)[:5], width=200)\n",
    "\n",
    "print(\"\\nNegative headlines:\\n\")\n",
    "pprint(list(df[df['label'] == -1].headline)[:5], width=200)"
   ]
  },
  {
   "cell_type": "code",
   "execution_count": 11,
   "id": "d4b60b78",
   "metadata": {},
   "outputs": [
    {
     "name": "stdout",
     "output_type": "stream",
     "text": [
      " 0    403\n",
      "-1    330\n",
      " 1    228\n",
      "Name: label, dtype: int64\n",
      " 0    41.935484\n",
      "-1    34.339230\n",
      " 1    23.725286\n",
      "Name: label, dtype: float64\n"
     ]
    }
   ],
   "source": [
    "print(df.label.value_counts())\n",
    "\n",
    "print(df.label.value_counts(normalize=True) * 100)"
   ]
  },
  {
   "cell_type": "code",
   "execution_count": 12,
   "id": "00881313",
   "metadata": {},
   "outputs": [
    {
     "data": {
      "image/png": "[encoded data removed]",
      "text/plain": [
       "<Figure size 576x576 with 1 Axes>"
      ]
     },
     "metadata": {},
     "output_type": "display_data"
    }
   ],
   "source": [
    "fig, ax = plt.subplots(figsize=(8, 8))\n",
    "\n",
    "counts = df.label.value_counts(normalize=True) * 100\n",
    "\n",
    "sns.barplot(x=counts.index, y=counts, ax=ax)\n",
    "\n",
    "ax.set_xticklabels(['Negative', 'Neutral', 'Positive'])\n",
    "ax.set_ylabel(\"Percentage\")\n",
    "\n",
    "plt.show()"
   ]
  },
  {
   "cell_type": "code",
   "execution_count": 13,
   "id": "23801e27",
   "metadata": {},
   "outputs": [
    {
     "name": "stdout",
     "output_type": "stream",
     "text": [
      "['This', 'is', 'an', 'example', 'sentence', '!', 'However', ',', 'it', 'is', \"n't\", 'a', 'very', 'informative', 'one']\n"
     ]
    }
   ],
   "source": [
    "from nltk.tokenize import word_tokenize, RegexpTokenizer\n",
    "\n",
    "example = \"This is an example sentence! However, it isn't a very informative one\"\n",
    "\n",
    "print(word_tokenize(example, language='english'))"
   ]
  },
  {
   "cell_type": "code",
   "execution_count": 14,
   "id": "3f01cd85",
   "metadata": {},
   "outputs": [
    {
     "data": {
      "text/plain": [
       "['This',\n",
       " 'is',\n",
       " 'an',\n",
       " 'example',\n",
       " 'sentence',\n",
       " 'However',\n",
       " 'it',\n",
       " 'isn',\n",
       " 't',\n",
       " 'a',\n",
       " 'very',\n",
       " 'informative',\n",
       " 'one']"
      ]
     },
     "execution_count": 14,
     "metadata": {},
     "output_type": "execute_result"
    }
   ],
   "source": [
    "tokenizer = RegexpTokenizer(r'\\w+')\n",
    "tokenizer.tokenize(example)"
   ]
  },
  {
   "cell_type": "code",
   "execution_count": 15,
   "id": "426b3cb0",
   "metadata": {},
   "outputs": [
    {
     "name": "stdout",
     "output_type": "stream",
     "text": [
      "['i', 'me', 'my', 'myself', 'we', 'our', 'ours', 'ourselves', 'you', \"you're\", \"you've\", \"you'll\", \"you'd\", 'your', 'yours', 'yourself', 'yourselves', 'he', 'him', 'his']\n"
     ]
    }
   ],
   "source": [
    "from nltk.corpus import stopwords\n",
    "\n",
    "stop_words = stopwords.words('english')\n",
    "print(stop_words[:20])"
   ]
  },
  {
   "cell_type": "markdown",
   "id": "73136b46",
   "metadata": {},
   "source": [
    "# Now, we will send the CSV file of our scraped data to Azure blob storage"
   ]
  }
 ],
 "metadata": {
  "kernelspec": {
   "display_name": "Python 3",
   "language": "python",
   "name": "python3"
  },
  "language_info": {
   "codemirror_mode": {
    "name": "ipython",
    "version": 3
   },
   "file_extension": ".py",
   "mimetype": "text/x-python",
   "name": "python",
   "nbconvert_exporter": "python",
   "pygments_lexer": "ipython3",
   "version": "3.8.5"
  }
 },
 "nbformat": 4,
 "nbformat_minor": 5
}
